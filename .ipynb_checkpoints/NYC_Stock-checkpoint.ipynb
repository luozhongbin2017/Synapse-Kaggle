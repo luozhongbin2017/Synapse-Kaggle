{
 "cells": [
  {
   "cell_type": "code",
   "execution_count": 1,
   "metadata": {
    "_cell_guid": "b1076dfc-b9ad-4769-8c92-a6c4dae69d19",
    "_uuid": "8f2839f25d086af736a60e9eeb907d3b93b6e0e5"
   },
   "outputs": [
    {
     "name": "stderr",
     "output_type": "stream",
     "text": [
      "C:\\Users\\nisch100\\Anaconda3\\lib\\site-packages\\h5py\\__init__.py:36: FutureWarning: Conversion of the second argument of issubdtype from `float` to `np.floating` is deprecated. In future, it will be treated as `np.float64 == np.dtype(float).type`.\n",
      "  from ._conv import register_converters as _register_converters\n",
      "Using TensorFlow backend.\n"
     ]
    },
    {
     "ename": "FileNotFoundError",
     "evalue": "[WinError 3] The system cannot find the path specified: '../input'",
     "output_type": "error",
     "traceback": [
      "\u001b[1;31m---------------------------------------------------------------------------\u001b[0m",
      "\u001b[1;31mFileNotFoundError\u001b[0m                         Traceback (most recent call last)",
      "\u001b[1;32m<ipython-input-1-7d1d85ad37bb>\u001b[0m in \u001b[0;36m<module>\u001b[1;34m()\u001b[0m\n\u001b[0;32m     23\u001b[0m \u001b[1;33m\u001b[0m\u001b[0m\n\u001b[0;32m     24\u001b[0m \u001b[1;32mimport\u001b[0m \u001b[0mos\u001b[0m\u001b[1;33m\u001b[0m\u001b[0m\n\u001b[1;32m---> 25\u001b[1;33m \u001b[0mprint\u001b[0m\u001b[1;33m(\u001b[0m\u001b[0mos\u001b[0m\u001b[1;33m.\u001b[0m\u001b[0mlistdir\u001b[0m\u001b[1;33m(\u001b[0m\u001b[1;34m\"../input\"\u001b[0m\u001b[1;33m)\u001b[0m\u001b[1;33m)\u001b[0m\u001b[1;33m\u001b[0m\u001b[0m\n\u001b[0m\u001b[0;32m     26\u001b[0m \u001b[1;33m\u001b[0m\u001b[0m\n\u001b[0;32m     27\u001b[0m \u001b[1;31m# Any results you write to the current directory are saved as output.\u001b[0m\u001b[1;33m\u001b[0m\u001b[1;33m\u001b[0m\u001b[0m\n",
      "\u001b[1;31mFileNotFoundError\u001b[0m: [WinError 3] The system cannot find the path specified: '../input'"
     ]
    }
   ],
   "source": [
    "# This Python 3 environment comes with many helpful analytics libraries installed\n",
    "# It is defined by the kaggle/python docker image: https://github.com/kaggle/docker-python\n",
    "# For example, here's several helpful packages to load in \n",
    "\n",
    "import numpy as np # linear algebra\n",
    "import pandas as pd # data processing, CSV file I/O (e.g. pd.read_csv)\n",
    "from sklearn.model_selection import train_test_split\n",
    "from sklearn.preprocessing import MinMaxScaler\n",
    "from sklearn.metrics import mean_squared_error\n",
    "import matplotlib.pyplot as plt\n",
    "import math\n",
    "from keras.models import Sequential\n",
    "from keras.layers.core import Dense, Dropout, Activation\n",
    "from keras.layers.recurrent import LSTM\n",
    "from keras.models import load_model\n",
    "import keras\n",
    "import h5py\n",
    "import requests\n",
    "\n",
    "\n",
    "# Input data files are available in the \"../input/\" directory.\n",
    "# For example, running this (by clicking run or pressing Shift+Enter) will list the files in the input directory\n",
    "\n",
    "import os\n",
    "print(os.listdir(\"../input\"))\n",
    "\n",
    "# Any results you write to the current directory are saved as output."
   ]
  },
  {
   "cell_type": "code",
   "execution_count": null,
   "metadata": {
    "_cell_guid": "79c7e3d0-c299-4dcb-8224-4455121ee9b0",
    "_uuid": "d629ff2d2480ee46fbb7e2d37f6b5fab8052498a"
   },
   "outputs": [],
   "source": [
    "prices_dataset =  pd.read_csv('prices.csv', header=0)\n",
    "print(type(prices_dataset))\n",
    "prices_dataset.head()\n"
   ]
  },
  {
   "cell_type": "code",
   "execution_count": null,
   "metadata": {
    "_uuid": "e763fcef680131d655574933a9e46b3ec57da182"
   },
   "outputs": [],
   "source": [
    "print(set(prices_dataset.symbol))\n",
    "len(set(prices_dataset.symbol))"
   ]
  },
  {
   "cell_type": "markdown",
   "metadata": {
    "_uuid": "4357b082c9d18608ac035432ff4a1c8077042fee"
   },
   "source": [
    "## Viewing shares fluctuations for Microsoft as usecase"
   ]
  },
  {
   "cell_type": "markdown",
   "metadata": {
    "_uuid": "1185f4ca513fadbee4fcb0e7d8033b7e2470b508"
   },
   "source": [
    "#### Since companies tend to have fluctuating prices throughout the day, a decent estimate to take the closing price of a stock. Investors and other stakeholders base their decisions on closing stock prices. Institutional investors monitor a stock's closing price to make decisions regarding their investment portfolios."
   ]
  },
  {
   "cell_type": "code",
   "execution_count": 28,
   "metadata": {
    "_uuid": "d249602cbf202a91a50e1491a496c6fe0f136f6a"
   },
   "outputs": [
    {
     "data": {
      "image/png": "[encoded data removed]",
      "text/plain": [
       "<Figure size 432x288 with 1 Axes>"
      ]
     },
     "metadata": {},
     "output_type": "display_data"
    }
   ],
   "source": [
    "microsoft = prices_dataset[prices_dataset['symbol']=='MSFT']\n",
    "msft_stock_prices = microsoft.close.values.astype('float32')\n",
    "msft_stock_prices = msft_stock_prices.reshape(1762, 1)\n",
    "plt.plot(msft_stock_prices)\n",
    "plt.show()"
   ]
  },
  {
   "cell_type": "code",
   "execution_count": 16,
   "metadata": {
    "_uuid": "7b823f62b25bfaaa705a1e4bb8903f5e10a1327d"
   },
   "outputs": [
    {
     "data": {
      "text/html": [
       "<div>\n",
       "<style scoped>\n",
       "    .dataframe tbody tr th:only-of-type {\n",
       "        vertical-align: middle;\n",
       "    }\n",
       "\n",
       "    .dataframe tbody tr th {\n",
       "        vertical-align: top;\n",
       "    }\n",
       "\n",
       "    .dataframe thead th {\n",
       "        text-align: right;\n",
       "    }\n",
       "</style>\n",
       "<table border=\"1\" class=\"dataframe\">\n",
       "  <thead>\n",
       "    <tr style=\"text-align: right;\">\n",
       "      <th></th>\n",
       "      <th>Ticker symbol</th>\n",
       "      <th>Security</th>\n",
       "      <th>SEC filings</th>\n",
       "      <th>GICS Sector</th>\n",
       "      <th>GICS Sub Industry</th>\n",
       "      <th>Address of Headquarters</th>\n",
       "      <th>Date first added</th>\n",
       "      <th>CIK</th>\n",
       "    </tr>\n",
       "  </thead>\n",
       "  <tbody>\n",
       "    <tr>\n",
       "      <th>0</th>\n",
       "      <td>MMM</td>\n",
       "      <td>3M Company</td>\n",
       "      <td>reports</td>\n",
       "      <td>Industrials</td>\n",
       "      <td>Industrial Conglomerates</td>\n",
       "      <td>St. Paul, Minnesota</td>\n",
       "      <td>NaN</td>\n",
       "      <td>66740</td>\n",
       "    </tr>\n",
       "    <tr>\n",
       "      <th>1</th>\n",
       "      <td>ABT</td>\n",
       "      <td>Abbott Laboratories</td>\n",
       "      <td>reports</td>\n",
       "      <td>Health Care</td>\n",
       "      <td>Health Care Equipment</td>\n",
       "      <td>North Chicago, Illinois</td>\n",
       "      <td>1964-03-31</td>\n",
       "      <td>1800</td>\n",
       "    </tr>\n",
       "    <tr>\n",
       "      <th>2</th>\n",
       "      <td>ABBV</td>\n",
       "      <td>AbbVie</td>\n",
       "      <td>reports</td>\n",
       "      <td>Health Care</td>\n",
       "      <td>Pharmaceuticals</td>\n",
       "      <td>North Chicago, Illinois</td>\n",
       "      <td>2012-12-31</td>\n",
       "      <td>1551152</td>\n",
       "    </tr>\n",
       "    <tr>\n",
       "      <th>3</th>\n",
       "      <td>ACN</td>\n",
       "      <td>Accenture plc</td>\n",
       "      <td>reports</td>\n",
       "      <td>Information Technology</td>\n",
       "      <td>IT Consulting &amp; Other Services</td>\n",
       "      <td>Dublin, Ireland</td>\n",
       "      <td>2011-07-06</td>\n",
       "      <td>1467373</td>\n",
       "    </tr>\n",
       "    <tr>\n",
       "      <th>4</th>\n",
       "      <td>ATVI</td>\n",
       "      <td>Activision Blizzard</td>\n",
       "      <td>reports</td>\n",
       "      <td>Information Technology</td>\n",
       "      <td>Home Entertainment Software</td>\n",
       "      <td>Santa Monica, California</td>\n",
       "      <td>2015-08-31</td>\n",
       "      <td>718877</td>\n",
       "    </tr>\n",
       "  </tbody>\n",
       "</table>\n",
       "</div>"
      ],
      "text/plain": [
       "  Ticker symbol             Security   ...    Date first added      CIK\n",
       "0           MMM           3M Company   ...                 NaN    66740\n",
       "1           ABT  Abbott Laboratories   ...          1964-03-31     1800\n",
       "2          ABBV               AbbVie   ...          2012-12-31  1551152\n",
       "3           ACN        Accenture plc   ...          2011-07-06  1467373\n",
       "4          ATVI  Activision Blizzard   ...          2015-08-31   718877\n",
       "\n",
       "[5 rows x 8 columns]"
      ]
     },
     "execution_count": 16,
     "metadata": {},
     "output_type": "execute_result"
    }
   ],
   "source": [
    "security_dataset =  pd.read_csv('../input/securities.csv', header=0)\n",
    "security_dataset.head()\n"
   ]
  },
  {
   "cell_type": "code",
   "execution_count": 23,
   "metadata": {
    "_uuid": "a84ac6e18573abbdadda890d6eb9c44b900ecf08"
   },
   "outputs": [
    {
     "name": "stdout",
     "output_type": "stream",
     "text": [
      "{'News Corp. Class A', 'Best Buy Co. Inc.', 'Arthur J. Gallagher & Co.', 'Alliance Data Systems', 'NetApp', 'Alexion Pharmaceuticals', 'General Dynamics', 'PayPal', 'Allegion', 'HCP Inc.', 'Starbucks Corp.', 'Xilinx Inc', 'Omnicom Group', 'Advance Auto Parts', 'Phillips 66', \"Harman Int'l Industries\", 'Extra Space Storage', \"Edison Int'l\", 'Ross Stores', 'Express Scripts', 'American International Group, Inc.', 'Skyworks Solutions', 'Analog Devices, Inc.', 'Citigroup Inc.', 'Dollar Tree', 'Vertex Pharmaceuticals Inc', 'Staples Inc.', 'Valero Energy', 'United Continental Holdings', 'Alliant Energy Corp', 'Mettler Toledo', 'Hess Corporation', 'Public Serv. Enterprise Inc.', 'Sempra Energy', 'D. R. Horton', 'Tegna, Inc.', 'Baxter International Inc.', 'Dover Corp.', 'Chevron Corp.', 'Amgen Inc', 'Macerich', 'Dow Chemical', 'Gilead Sciences', 'Union Pacific', 'Motorola Solutions Inc.', 'Eastman Chemical', 'Delta Air Lines', 'Fortive Corp', 'Dominion Resources', 'Crown Castle International Corp.', 'TJX Companies Inc.', 'Digital Realty Trust', 'Dentsply Sirona', 'Juniper Networks', 'Comcast A Corp', 'S&P Global, Inc.', 'Oracle Corp.', 'Essex Property Trust, Inc.', 'Duke Energy', 'Williams Cos.', 'EOG Resources', 'Marsh & McLennan', 'AutoZone Inc', 'TE Connectivity Ltd.', 'Citizens Financial Group', 'Norfolk Southern Corp.', 'Colgate-Palmolive', 'Kellogg Co.', 'Chipotle Mexican Grill', 'Hasbro Inc.', 'Twenty-First Century Fox Class A', 'Ball Corp', 'BlackRock', 'Morgan Stanley', 'Illumina Inc', 'Lilly (Eli) & Co.', 'Ventas Inc', 'Willis Towers Watson', 'Newmont Mining Corp. (Hldg. Co.)', 'Nielsen Holdings', 'Marathon Petroleum', 'Occidental Petroleum', 'Pulte Homes Inc.', 'NiSource Inc.', 'Delphi Automotive', 'Synchrony Financial', 'Acuity Brands Inc', 'Leggett & Platt', 'Gap (The)', 'Western Digital', 'CME Group Inc.', 'Emerson Electric Company', 'AES Corp', 'Hartford Financial Svc.Gp.', 'Kroger Co.', 'The Travelers Companies Inc.', 'Helmerich & Payne', 'Wyndham Worldwide', 'International Business Machines', 'Zoetis', 'Automatic Data Processing', 'Host Hotels & Resorts', 'BorgWarner', 'Realty Income Corporation', 'Range Resources Corp.', 'Universal Health Services, Inc.', 'General Motors', 'Avery Dennison Corp', 'Nucor Corp.', 'Mylan N.V.', 'Humana Inc.', 'Zions Bancorp', 'Mohawk Industries', 'LKQ Corporation', 'Bed Bath & Beyond', 'Tiffany & Co.', 'Viacom Inc.', 'Fifth Third Bancorp', 'Tyson Foods', 'Micron Technology', 'Wec Energy Group Inc', 'Arconic Inc', 'Cummins Inc.', 'First Solar Inc', 'SCANA Corp', 'CIGNA Corp.', 'Boston Scientific', 'Goodyear Tire & Rubber', 'Coty, Inc', 'National Oilwell Varco Inc.', 'Dun & Bradstreet', 'Marathon Oil Corp.', 'Block H&R', 'Affiliated Managers Group Inc', 'Anadarko Petroleum Corp', 'Lennar Corp.', \"People's United Financial\", 'Linear Technology Corp.', 'Bard (C.R.) Inc.', 'Loews Corp.', 'Brown-Forman Corporation', 'Teradata Corp.', 'KLA-Tencor Corp.', 'Iron Mountain Incorporated', 'Facebook', 'Tesoro Petroleum Co.', 'Zimmer Biomet Holdings', 'EQT Corporation', 'Amphenol Corp', 'Cintas Corporation', 'Equinix', 'Home Depot', 'Microchip Technology', 'Charter Communications', 'Signet Jewelers', 'Vornado Realty Trust', 'DTE Energy Co.', 'Republic Services Inc', 'Monsanto Co.', 'Adobe Systems Inc', 'Jacobs Engineering Group', 'SL Green Realty', 'Noble Energy Inc', 'Total System Services', 'Corning Inc.', 'Intl Flavors & Fragrances', 'PVH Corp.', 'Verisk Analytics', 'International Paper', 'American Express Co', 'Discover Financial Services', 'Scripps Networks Interactive Inc.', 'Nike', 'Southwest Airlines', 'The Walt Disney Company', 'Schlumberger Ltd.', 'E*Trade', 'AMETEK Inc', 'Anthem Inc.', 'Caterpillar Inc.', 'BB&T Corporation', 'Pfizer Inc.', 'Equity Residential', 'Pentair Ltd.', 'Waste Management Inc.', 'Fiserv Inc', 'Welltower Inc.', 'Envision Healthcare Corp', 'HCA Holdings', 'Eversource Energy', 'Cerner', 'United Rentals, Inc.', 'Grainger (W.W.) Inc.', 'Patterson Companies', 'Raytheon Co.', 'Procter & Gamble', 'Roper Industries', 'Boeing Company', 'Salesforce.com', 'Medtronic plc', 'Apple Inc.', 'Quest Diagnostics', 'Visa Inc.', 'Murphy Oil', 'Entergy Corp.', 'DaVita Inc.', 'Exxon Mobil Corp.', \"McDonald's Corp.\", 'Chesapeake Energy', 'Wells Fargo', 'Pinnacle West Capital', \"Moody's Corp\", 'Parker-Hannifin', 'Activision Blizzard', 'Accenture plc', 'NASDAQ OMX Group', 'Cabot Oil & Gas', 'Pitney-Bowes', 'Apache Corporation', 'KeyCorp', 'AbbVie', 'Cognizant Technology Solutions', 'Royal Caribbean Cruises Ltd', \"Macy's Inc.\", 'American Airlines Group', 'Verizon Communications', 'Mastercard Inc.', 'General Electric', 'Kinder Morgan', 'Masco Corp.', 'Pioneer Natural Resources', 'Huntington Bancshares', 'QUALCOMM Inc.', 'Apartment Investment & Mgmt', 'Halliburton Co.', 'Southwestern Energy', 'AT&T Inc', 'Intuit Inc.', 'PerkinElmer', 'Goldman Sachs Group', 'Level 3 Communications', 'Northern Trust Corp.', 'Yahoo Inc.', 'Reynolds American Inc.', 'Hologic', 'Johnson & Johnson', 'SunTrust Banks', 'Wal-Mart Stores', 'Ulta Salon Cosmetics & Fragrance Inc', 'Waters Corporation', 'Danaher Corp.', 'UDR Inc', 'JM Smucker', 'Mallinckrodt Plc', \"O'Reilly Automotive\", 'Walgreens Boots Alliance', 'T. Rowe Price Group', 'AFLAC Inc', 'Leucadia National Corp.', 'Alphabet Inc Class A', 'CA, Inc.', 'Agilent Technologies Inc', 'The Cooper Companies', 'Franklin Resources', 'Freeport-McMoran Cp & Gld', 'Dollar General', 'American Electric Power', 'Snap-On Inc.', 'Texas Instruments', 'Principal Financial Group', 'Laboratory Corp. of America Holding', 'State Street Corp.', 'HP Inc.', 'Time Warner Inc.', 'Constellation Brands', 'ConocoPhillips', 'Estee Lauder Cos.', 'Netflix Inc.', 'Akamai Technologies Inc', 'C. H. Robinson Worldwide', 'Fidelity National Information Services', 'Harley-Davidson', 'United Parcel Service', 'Urban Outfitters', 'Polo Ralph Lauren Corp.', 'Broadcom', 'Deere & Co.', 'Western Union Co', 'CMS Energy', 'AutoNation Inc', \"Marriott Int'l.\", 'Molson Coors Brewing Company', 'Thermo Fisher Scientific', 'Church & Dwight', 'Ryder System', 'Kansas City Southern', 'Hanesbrands Inc', 'Regions Financial Corp.', 'Fastenal Co', 'Kimberly-Clark', 'Du Pont (E.I.)', 'J. B. Hunt Transport Services', 'Carmax Inc', 'Prudential Financial', 'Baker Hughes Inc', 'Ingersoll-Rand PLC', 'Perrigo', 'Global Payments Inc', 'CenturyLink Inc', 'Genuine Parts', 'Johnson Controls International', 'TransDigm Group', 'Textron Inc.', 'Devon Energy Corp.', 'M&T Bank Corp.', 'FirstEnergy Corp', 'Intuitive Surgical Inc.', 'Consolidated Edison', 'Microsoft Corp.', 'Campbell Soup', 'Celgene Corp.', 'PNC Financial Services', 'Whirlpool Corp.', 'McKesson Corp.', 'Newell Brands', 'BIOGEN IDEC Inc.', 'Cardinal Health Inc.', 'U.S. Bancorp', 'FedEx Corporation', 'Federal Realty Investment Trust', 'Nvidia Corporation', 'Simon Property Group Inc', 'General Growth Properties Inc.', 'Xylem Inc.', 'Intel Corp.', 'The Bank of New York Mellon Corp.', 'Berkshire Hathaway', 'Albemarle Corp', \"Lowe's Cos.\", 'CVS Health', 'Henry Schein', 'Michael Kors Holdings', 'Rockwell Automation Inc.', 'CSRA Inc.', 'Target Corp.', 'Intercontinental Exchange', 'IDEXX Laboratories', 'FLIR Systems', 'L Brands Inc.', 'Allergan, Plc', 'Xcel Energy Inc', 'Ecolab Inc.', 'JPMorgan Chase & Co.', 'Aon plc', \"Honeywell Int'l Inc.\", 'NextEra Energy', 'Under Armour', 'LyondellBasell', 'Chubb Limited', 'Assurant Inc', 'Unum Group', 'Edwards Lifesciences', 'Red Hat Inc.', 'Alaska Air Group Inc', 'Stryker Corp.', 'XL Capital', 'TripAdvisor', 'Robert Half International', 'Bristol-Myers Squibb', 'Exelon Corp.', 'Amazon.com Inc', 'Cisco Systems', 'Rockwell Collins', 'Cincinnati Financial', 'ONEOK', 'Monster Beverage', 'Coach Inc.', 'Garmin Ltd.', 'ConAgra Foods Inc.', 'Alphabet Inc Class C', 'Nordstrom', 'Tractor Supply Company', 'AmerisourceBergen Corp', 'Mattel Inc.', 'Mid-America Apartments', 'Praxair Inc.', 'Mead Johnson', 'Weyerhaeuser Corp.', 'Whole Foods Market', 'Paychex Inc.', 'Stericycle Inc', 'Aetna Inc', 'Flowserve Corporation', 'Citrix Systems', 'Kimco Realty', 'United Health Group Inc.', 'Seagate Technology', 'Transocean', 'Endo International', 'PACCAR Inc.', 'L-3 Communications Holdings', 'Sealed Air', 'Hewlett Packard Enterprise', 'Interpublic Group', 'Lam Research', 'United Technologies', 'Capital One Financial', 'McCormick & Co.', 'Vulcan Materials', \"Kohl's Corp.\", 'Priceline.com Inc', 'Merck & Co.', 'Ameren Corp', 'Illinois Tool Works', 'Coca Cola Company', 'The Clorox Company', 'Becton Dickinson', 'Martin Marietta Materials', 'The Mosaic Company', 'Symantec Corp.', 'V.F. Corp.', 'Qorvo', 'Archer-Daniels-Midland Co', 'Regeneron', 'Progressive Corp.', 'CBRE Group', 'Quanta Services Inc.', 'General Mills', 'Sherwin-Williams', 'Dr Pepper Snapple Group', \"Expeditors Int'l\", 'Allstate Corp', 'FMC Corporation', 'Hormel Foods Corp.', 'Southern Co.', 'FMC Technologies Inc.', 'Concho Resources', 'eBay Inc.', 'Charles Schwab Corporation', 'CenterPoint Energy', 'Boston Properties', 'Expedia Inc.', 'WestRock Company', 'Varian Medical Systems', 'Xerox Corp.', 'CSX Corp.', 'Kraft Heinz Co', 'Discovery Communications-A', 'Torchmark Corp.', 'American Water Works Company Inc', 'Ameriprise Financial', 'Fortune Brands Home & Security', 'Sysco Corp.', 'Verisign Inc.', 'Equifax Inc.', 'Air Products & Chemicals Inc', 'Harris Corporation', 'Bank of America Corp', 'Yum! Brands Inc', 'CBS Corp.', 'Philip Morris International', 'Carnival Corp.', 'Lincoln National', 'Electronic Arts', 'Comerica Inc.', 'American Tower Corp A', 'Frontier Communications', 'Altria Group Inc', 'Darden Restaurants', 'Cimarex Energy', 'AvalonBay Communities, Inc.', 'Newfield Exploration Co', 'Autodesk Inc', 'PG&E Corp.', 'Foot Locker Inc', 'Wynn Resorts Ltd', 'Discovery Communications-C', 'Mondelez International', 'Prologis', 'Invesco Ltd.', 'Abbott Laboratories', 'Eaton Corporation', 'News Corp. Class B', 'The Hershey Company', 'F5 Networks', 'Lockheed Martin Corp.', 'MetLife Inc.', 'Stanley Black & Decker', 'PPG Industries', 'Public Storage', 'NRG Energy', 'PPL Corp.', 'Spectra Energy Corp.', 'Centene Corporation', 'Ford Motor', 'Navient', 'Twenty-First Century Fox Class B', 'CF Industries Holdings Inc', 'Fluor Corp.', 'Applied Materials Inc', 'Costco Co.', 'PepsiCo Inc.', 'Northrop Grumman Corp.', '3M Company'}\n"
     ]
    },
    {
     "data": {
      "text/plain": [
       "504"
      ]
     },
     "execution_count": 23,
     "metadata": {},
     "output_type": "execute_result"
    }
   ],
   "source": [
    "print(set(security_dataset.Security))\n",
    "len(set(security_dataset.Security))"
   ]
  },
  {
   "cell_type": "code",
   "execution_count": 19,
   "metadata": {
    "_uuid": "fd7475bd894e3e374e83f978200160eb7d25e635"
   },
   "outputs": [
    {
     "data": {
      "text/html": [
       "<div>\n",
       "<style scoped>\n",
       "    .dataframe tbody tr th:only-of-type {\n",
       "        vertical-align: middle;\n",
       "    }\n",
       "\n",
       "    .dataframe tbody tr th {\n",
       "        vertical-align: top;\n",
       "    }\n",
       "\n",
       "    .dataframe thead th {\n",
       "        text-align: right;\n",
       "    }\n",
       "</style>\n",
       "<table border=\"1\" class=\"dataframe\">\n",
       "  <thead>\n",
       "    <tr style=\"text-align: right;\">\n",
       "      <th></th>\n",
       "      <th>symbol</th>\n",
       "      <th>open</th>\n",
       "      <th>low</th>\n",
       "      <th>high</th>\n",
       "      <th>volume</th>\n",
       "      <th>adj close</th>\n",
       "    </tr>\n",
       "    <tr>\n",
       "      <th>date</th>\n",
       "      <th></th>\n",
       "      <th></th>\n",
       "      <th></th>\n",
       "      <th></th>\n",
       "      <th></th>\n",
       "      <th></th>\n",
       "    </tr>\n",
       "  </thead>\n",
       "  <tbody>\n",
       "    <tr>\n",
       "      <th>2016-01-05</th>\n",
       "      <td>WLTW</td>\n",
       "      <td>123.430000</td>\n",
       "      <td>122.309998</td>\n",
       "      <td>126.250000</td>\n",
       "      <td>2163600.0</td>\n",
       "      <td>125.839996</td>\n",
       "    </tr>\n",
       "    <tr>\n",
       "      <th>2016-01-06</th>\n",
       "      <td>WLTW</td>\n",
       "      <td>125.239998</td>\n",
       "      <td>119.940002</td>\n",
       "      <td>125.540001</td>\n",
       "      <td>2386400.0</td>\n",
       "      <td>119.980003</td>\n",
       "    </tr>\n",
       "    <tr>\n",
       "      <th>2016-01-07</th>\n",
       "      <td>WLTW</td>\n",
       "      <td>116.379997</td>\n",
       "      <td>114.930000</td>\n",
       "      <td>119.739998</td>\n",
       "      <td>2489500.0</td>\n",
       "      <td>114.949997</td>\n",
       "    </tr>\n",
       "    <tr>\n",
       "      <th>2016-01-08</th>\n",
       "      <td>WLTW</td>\n",
       "      <td>115.480003</td>\n",
       "      <td>113.500000</td>\n",
       "      <td>117.440002</td>\n",
       "      <td>2006300.0</td>\n",
       "      <td>116.620003</td>\n",
       "    </tr>\n",
       "    <tr>\n",
       "      <th>2016-01-11</th>\n",
       "      <td>WLTW</td>\n",
       "      <td>117.010002</td>\n",
       "      <td>114.089996</td>\n",
       "      <td>117.330002</td>\n",
       "      <td>1408600.0</td>\n",
       "      <td>114.970001</td>\n",
       "    </tr>\n",
       "  </tbody>\n",
       "</table>\n",
       "</div>"
      ],
      "text/plain": [
       "           symbol        open     ...         volume   adj close\n",
       "date                              ...                           \n",
       "2016-01-05   WLTW  123.430000     ...      2163600.0  125.839996\n",
       "2016-01-06   WLTW  125.239998     ...      2386400.0  119.980003\n",
       "2016-01-07   WLTW  116.379997     ...      2489500.0  114.949997\n",
       "2016-01-08   WLTW  115.480003     ...      2006300.0  116.620003\n",
       "2016-01-11   WLTW  117.010002     ...      1408600.0  114.970001\n",
       "\n",
       "[5 rows x 6 columns]"
      ]
     },
     "execution_count": 19,
     "metadata": {},
     "output_type": "execute_result"
    }
   ],
   "source": [
    "df = pd.read_csv(\"../input/prices-split-adjusted.csv\", index_col = 0)\n",
    "df.head()"
   ]
  },
  {
   "cell_type": "code",
   "execution_count": null,
   "metadata": {
    "_uuid": "aba98ca55f778f47051826dba290776932cca663"
   },
   "outputs": [],
   "source": []
  }
 ],
 "metadata": {
  "kernelspec": {
   "display_name": "Python 3",
   "language": "python",
   "name": "python3"
  }
 },
 "nbformat": 4,
 "nbformat_minor": 1
}
